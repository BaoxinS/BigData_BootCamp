{
 "cells": [
  {
   "cell_type": "code",
   "execution_count": 1,
   "metadata": {
    "collapsed": true
   },
   "outputs": [],
   "source": [
    "import numpy as np\n",
    "import pandas as pd\n",
    "import scipy\n",
    "from math import sqrt\n",
    "import matplotlib.pyplot as plt"
   ]
  },
  {
   "cell_type": "code",
   "execution_count": 2,
   "metadata": {
    "collapsed": true
   },
   "outputs": [],
   "source": [
    "from sklearn.ensemble import RandomForestRegressor\n",
    "from sklearn.linear_model import LinearRegression\n",
    "from sklearn.svm import SVR\n",
    "from sklearn import linear_model"
   ]
  },
  {
   "cell_type": "code",
   "execution_count": 3,
   "metadata": {
    "collapsed": true
   },
   "outputs": [],
   "source": [
    "from sklearn.metrics import mean_squared_error\n",
    "from sklearn.metrics import r2_score\n",
    "from sklearn.model_selection import cross_val_score"
   ]
  },
  {
   "cell_type": "code",
   "execution_count": 4,
   "metadata": {
    "collapsed": true
   },
   "outputs": [],
   "source": [
    "from sklearn.model_selection import train_test_split"
   ]
  },
  {
   "cell_type": "code",
   "execution_count": 5,
   "metadata": {
    "collapsed": true
   },
   "outputs": [],
   "source": [
    "from sklearn.preprocessing import StandardScaler"
   ]
  },
  {
   "cell_type": "code",
   "execution_count": 6,
   "metadata": {
    "collapsed": true
   },
   "outputs": [],
   "source": [
    "rawData = pd.read_csv('default of credit card clients.csv', header=1)"
   ]
  },
  {
   "cell_type": "code",
   "execution_count": 7,
   "metadata": {
    "collapsed": true
   },
   "outputs": [],
   "source": [
    "df = rawData.rename(columns={'default payment next month': 'Default'})"
   ]
  },
  {
   "cell_type": "code",
   "execution_count": 8,
   "metadata": {
    "collapsed": true
   },
   "outputs": [],
   "source": [
    "df['PayBill1']=df['BILL_AMT1']*df['PAY_0']\n",
    "df['PayBill2']=df['BILL_AMT2']*df['PAY_2']\n",
    "df['PayBill3']=df['BILL_AMT3']*df['PAY_3']\n",
    "df['PayBill4']=df['BILL_AMT4']*df['PAY_4']\n",
    "df['PayBill5']=df['BILL_AMT5']*df['PAY_5']\n",
    "df['PayBill6']=df['BILL_AMT6']*df['PAY_6']"
   ]
  },
  {
   "cell_type": "code",
   "execution_count": 9,
   "metadata": {
    "collapsed": true
   },
   "outputs": [],
   "source": [
    "df['PayPay1']=df['PAY_AMT1']*df['PAY_0']\n",
    "df['PayPay2']=df['PAY_AMT2']*df['PAY_2']\n",
    "df['PayPay3']=df['PAY_AMT3']*df['PAY_3']\n",
    "df['PayPay4']=df['PAY_AMT4']*df['PAY_4']\n",
    "df['PayPay5']=df['PAY_AMT5']*df['PAY_5']\n",
    "df['PayPay6']=df['PAY_AMT6']*df['PAY_6']"
   ]
  },
  {
   "cell_type": "code",
   "execution_count": 10,
   "metadata": {},
   "outputs": [
    {
     "data": {
      "text/html": [
       "<div>\n",
       "<style>\n",
       "    .dataframe thead tr:only-child th {\n",
       "        text-align: right;\n",
       "    }\n",
       "\n",
       "    .dataframe thead th {\n",
       "        text-align: left;\n",
       "    }\n",
       "\n",
       "    .dataframe tbody tr th {\n",
       "        vertical-align: top;\n",
       "    }\n",
       "</style>\n",
       "<table border=\"1\" class=\"dataframe\">\n",
       "  <thead>\n",
       "    <tr style=\"text-align: right;\">\n",
       "      <th></th>\n",
       "      <th>LIMIT_BAL</th>\n",
       "      <th>MARRIAGE</th>\n",
       "      <th>EDUCATION</th>\n",
       "      <th>PAY_0</th>\n",
       "      <th>PAY_2</th>\n",
       "      <th>PAY_3</th>\n",
       "      <th>BILL_AMT1</th>\n",
       "      <th>BILL_AMT2</th>\n",
       "      <th>BILL_AMT3</th>\n",
       "      <th>PayBill1</th>\n",
       "      <th>PayBill2</th>\n",
       "      <th>PayBill3</th>\n",
       "      <th>PayBill4</th>\n",
       "      <th>PayBill5</th>\n",
       "      <th>PayBill6</th>\n",
       "      <th>Default</th>\n",
       "    </tr>\n",
       "  </thead>\n",
       "  <tbody>\n",
       "    <tr>\n",
       "      <th>LIMIT_BAL</th>\n",
       "      <td>1.000000</td>\n",
       "      <td>-0.108139</td>\n",
       "      <td>-0.219161</td>\n",
       "      <td>-0.271214</td>\n",
       "      <td>-0.296382</td>\n",
       "      <td>-0.286123</td>\n",
       "      <td>0.285430</td>\n",
       "      <td>0.278314</td>\n",
       "      <td>0.283236</td>\n",
       "      <td>-0.007089</td>\n",
       "      <td>-0.021389</td>\n",
       "      <td>-0.041870</td>\n",
       "      <td>-0.059848</td>\n",
       "      <td>-0.052143</td>\n",
       "      <td>-0.050414</td>\n",
       "      <td>-0.153520</td>\n",
       "    </tr>\n",
       "    <tr>\n",
       "      <th>MARRIAGE</th>\n",
       "      <td>-0.108139</td>\n",
       "      <td>1.000000</td>\n",
       "      <td>-0.143464</td>\n",
       "      <td>0.019917</td>\n",
       "      <td>0.024199</td>\n",
       "      <td>0.032688</td>\n",
       "      <td>-0.023472</td>\n",
       "      <td>-0.021602</td>\n",
       "      <td>-0.024909</td>\n",
       "      <td>-0.020890</td>\n",
       "      <td>-0.022691</td>\n",
       "      <td>-0.013168</td>\n",
       "      <td>-0.013080</td>\n",
       "      <td>-0.011111</td>\n",
       "      <td>-0.013844</td>\n",
       "      <td>-0.024339</td>\n",
       "    </tr>\n",
       "    <tr>\n",
       "      <th>EDUCATION</th>\n",
       "      <td>-0.219161</td>\n",
       "      <td>-0.143464</td>\n",
       "      <td>1.000000</td>\n",
       "      <td>0.105364</td>\n",
       "      <td>0.121566</td>\n",
       "      <td>0.114025</td>\n",
       "      <td>0.023581</td>\n",
       "      <td>0.018749</td>\n",
       "      <td>0.013002</td>\n",
       "      <td>0.026152</td>\n",
       "      <td>0.019478</td>\n",
       "      <td>0.016966</td>\n",
       "      <td>0.020159</td>\n",
       "      <td>0.007296</td>\n",
       "      <td>0.004179</td>\n",
       "      <td>0.028006</td>\n",
       "    </tr>\n",
       "    <tr>\n",
       "      <th>PAY_0</th>\n",
       "      <td>-0.271214</td>\n",
       "      <td>0.019917</td>\n",
       "      <td>0.105364</td>\n",
       "      <td>1.000000</td>\n",
       "      <td>0.672164</td>\n",
       "      <td>0.574245</td>\n",
       "      <td>0.187068</td>\n",
       "      <td>0.189859</td>\n",
       "      <td>0.179785</td>\n",
       "      <td>0.487506</td>\n",
       "      <td>0.418755</td>\n",
       "      <td>0.351143</td>\n",
       "      <td>0.317305</td>\n",
       "      <td>0.293100</td>\n",
       "      <td>0.256419</td>\n",
       "      <td>0.324794</td>\n",
       "    </tr>\n",
       "    <tr>\n",
       "      <th>PAY_2</th>\n",
       "      <td>-0.296382</td>\n",
       "      <td>0.024199</td>\n",
       "      <td>0.121566</td>\n",
       "      <td>0.672164</td>\n",
       "      <td>1.000000</td>\n",
       "      <td>0.766552</td>\n",
       "      <td>0.234887</td>\n",
       "      <td>0.235257</td>\n",
       "      <td>0.224146</td>\n",
       "      <td>0.387908</td>\n",
       "      <td>0.488559</td>\n",
       "      <td>0.388882</td>\n",
       "      <td>0.341192</td>\n",
       "      <td>0.315568</td>\n",
       "      <td>0.275918</td>\n",
       "      <td>0.263551</td>\n",
       "    </tr>\n",
       "    <tr>\n",
       "      <th>PAY_3</th>\n",
       "      <td>-0.286123</td>\n",
       "      <td>0.032688</td>\n",
       "      <td>0.114025</td>\n",
       "      <td>0.574245</td>\n",
       "      <td>0.766552</td>\n",
       "      <td>1.000000</td>\n",
       "      <td>0.208473</td>\n",
       "      <td>0.237295</td>\n",
       "      <td>0.227494</td>\n",
       "      <td>0.298772</td>\n",
       "      <td>0.355999</td>\n",
       "      <td>0.464904</td>\n",
       "      <td>0.372191</td>\n",
       "      <td>0.322261</td>\n",
       "      <td>0.286981</td>\n",
       "      <td>0.235253</td>\n",
       "    </tr>\n",
       "    <tr>\n",
       "      <th>BILL_AMT1</th>\n",
       "      <td>0.285430</td>\n",
       "      <td>-0.023472</td>\n",
       "      <td>0.023581</td>\n",
       "      <td>0.187068</td>\n",
       "      <td>0.234887</td>\n",
       "      <td>0.208473</td>\n",
       "      <td>1.000000</td>\n",
       "      <td>0.951484</td>\n",
       "      <td>0.892279</td>\n",
       "      <td>0.282210</td>\n",
       "      <td>0.265612</td>\n",
       "      <td>0.219987</td>\n",
       "      <td>0.170994</td>\n",
       "      <td>0.165299</td>\n",
       "      <td>0.166083</td>\n",
       "      <td>-0.019644</td>\n",
       "    </tr>\n",
       "    <tr>\n",
       "      <th>BILL_AMT2</th>\n",
       "      <td>0.278314</td>\n",
       "      <td>-0.021602</td>\n",
       "      <td>0.018749</td>\n",
       "      <td>0.189859</td>\n",
       "      <td>0.235257</td>\n",
       "      <td>0.237295</td>\n",
       "      <td>0.951484</td>\n",
       "      <td>1.000000</td>\n",
       "      <td>0.928326</td>\n",
       "      <td>0.295818</td>\n",
       "      <td>0.256172</td>\n",
       "      <td>0.249528</td>\n",
       "      <td>0.191518</td>\n",
       "      <td>0.183779</td>\n",
       "      <td>0.184468</td>\n",
       "      <td>-0.014193</td>\n",
       "    </tr>\n",
       "    <tr>\n",
       "      <th>BILL_AMT3</th>\n",
       "      <td>0.283236</td>\n",
       "      <td>-0.024909</td>\n",
       "      <td>0.013002</td>\n",
       "      <td>0.179785</td>\n",
       "      <td>0.224146</td>\n",
       "      <td>0.227494</td>\n",
       "      <td>0.892279</td>\n",
       "      <td>0.928326</td>\n",
       "      <td>1.000000</td>\n",
       "      <td>0.286169</td>\n",
       "      <td>0.261712</td>\n",
       "      <td>0.192420</td>\n",
       "      <td>0.215957</td>\n",
       "      <td>0.199074</td>\n",
       "      <td>0.192240</td>\n",
       "      <td>-0.014076</td>\n",
       "    </tr>\n",
       "    <tr>\n",
       "      <th>PayBill1</th>\n",
       "      <td>-0.007089</td>\n",
       "      <td>-0.020890</td>\n",
       "      <td>0.026152</td>\n",
       "      <td>0.487506</td>\n",
       "      <td>0.387908</td>\n",
       "      <td>0.298772</td>\n",
       "      <td>0.282210</td>\n",
       "      <td>0.295818</td>\n",
       "      <td>0.286169</td>\n",
       "      <td>1.000000</td>\n",
       "      <td>0.814468</td>\n",
       "      <td>0.647730</td>\n",
       "      <td>0.523472</td>\n",
       "      <td>0.468316</td>\n",
       "      <td>0.378763</td>\n",
       "      <td>0.222866</td>\n",
       "    </tr>\n",
       "    <tr>\n",
       "      <th>PayBill2</th>\n",
       "      <td>-0.021389</td>\n",
       "      <td>-0.022691</td>\n",
       "      <td>0.019478</td>\n",
       "      <td>0.418755</td>\n",
       "      <td>0.488559</td>\n",
       "      <td>0.355999</td>\n",
       "      <td>0.265612</td>\n",
       "      <td>0.256172</td>\n",
       "      <td>0.261712</td>\n",
       "      <td>0.814468</td>\n",
       "      <td>1.000000</td>\n",
       "      <td>0.743852</td>\n",
       "      <td>0.602218</td>\n",
       "      <td>0.539470</td>\n",
       "      <td>0.434284</td>\n",
       "      <td>0.195397</td>\n",
       "    </tr>\n",
       "    <tr>\n",
       "      <th>PayBill3</th>\n",
       "      <td>-0.041870</td>\n",
       "      <td>-0.013168</td>\n",
       "      <td>0.016966</td>\n",
       "      <td>0.351143</td>\n",
       "      <td>0.388882</td>\n",
       "      <td>0.464904</td>\n",
       "      <td>0.219987</td>\n",
       "      <td>0.249528</td>\n",
       "      <td>0.192420</td>\n",
       "      <td>0.647730</td>\n",
       "      <td>0.743852</td>\n",
       "      <td>1.000000</td>\n",
       "      <td>0.701466</td>\n",
       "      <td>0.592975</td>\n",
       "      <td>0.505534</td>\n",
       "      <td>0.177741</td>\n",
       "    </tr>\n",
       "    <tr>\n",
       "      <th>PayBill4</th>\n",
       "      <td>-0.059848</td>\n",
       "      <td>-0.013080</td>\n",
       "      <td>0.020159</td>\n",
       "      <td>0.317305</td>\n",
       "      <td>0.341192</td>\n",
       "      <td>0.372191</td>\n",
       "      <td>0.170994</td>\n",
       "      <td>0.191518</td>\n",
       "      <td>0.215957</td>\n",
       "      <td>0.523472</td>\n",
       "      <td>0.602218</td>\n",
       "      <td>0.701466</td>\n",
       "      <td>1.000000</td>\n",
       "      <td>0.754522</td>\n",
       "      <td>0.591966</td>\n",
       "      <td>0.163125</td>\n",
       "    </tr>\n",
       "    <tr>\n",
       "      <th>PayBill5</th>\n",
       "      <td>-0.052143</td>\n",
       "      <td>-0.011111</td>\n",
       "      <td>0.007296</td>\n",
       "      <td>0.293100</td>\n",
       "      <td>0.315568</td>\n",
       "      <td>0.322261</td>\n",
       "      <td>0.165299</td>\n",
       "      <td>0.183779</td>\n",
       "      <td>0.199074</td>\n",
       "      <td>0.468316</td>\n",
       "      <td>0.539470</td>\n",
       "      <td>0.592975</td>\n",
       "      <td>0.754522</td>\n",
       "      <td>1.000000</td>\n",
       "      <td>0.719829</td>\n",
       "      <td>0.166294</td>\n",
       "    </tr>\n",
       "    <tr>\n",
       "      <th>PayBill6</th>\n",
       "      <td>-0.050414</td>\n",
       "      <td>-0.013844</td>\n",
       "      <td>0.004179</td>\n",
       "      <td>0.256419</td>\n",
       "      <td>0.275918</td>\n",
       "      <td>0.286981</td>\n",
       "      <td>0.166083</td>\n",
       "      <td>0.184468</td>\n",
       "      <td>0.192240</td>\n",
       "      <td>0.378763</td>\n",
       "      <td>0.434284</td>\n",
       "      <td>0.505534</td>\n",
       "      <td>0.591966</td>\n",
       "      <td>0.719829</td>\n",
       "      <td>1.000000</td>\n",
       "      <td>0.151058</td>\n",
       "    </tr>\n",
       "    <tr>\n",
       "      <th>Default</th>\n",
       "      <td>-0.153520</td>\n",
       "      <td>-0.024339</td>\n",
       "      <td>0.028006</td>\n",
       "      <td>0.324794</td>\n",
       "      <td>0.263551</td>\n",
       "      <td>0.235253</td>\n",
       "      <td>-0.019644</td>\n",
       "      <td>-0.014193</td>\n",
       "      <td>-0.014076</td>\n",
       "      <td>0.222866</td>\n",
       "      <td>0.195397</td>\n",
       "      <td>0.177741</td>\n",
       "      <td>0.163125</td>\n",
       "      <td>0.166294</td>\n",
       "      <td>0.151058</td>\n",
       "      <td>1.000000</td>\n",
       "    </tr>\n",
       "  </tbody>\n",
       "</table>\n",
       "</div>"
      ],
      "text/plain": [
       "           LIMIT_BAL  MARRIAGE  EDUCATION     PAY_0     PAY_2     PAY_3  \\\n",
       "LIMIT_BAL   1.000000 -0.108139  -0.219161 -0.271214 -0.296382 -0.286123   \n",
       "MARRIAGE   -0.108139  1.000000  -0.143464  0.019917  0.024199  0.032688   \n",
       "EDUCATION  -0.219161 -0.143464   1.000000  0.105364  0.121566  0.114025   \n",
       "PAY_0      -0.271214  0.019917   0.105364  1.000000  0.672164  0.574245   \n",
       "PAY_2      -0.296382  0.024199   0.121566  0.672164  1.000000  0.766552   \n",
       "PAY_3      -0.286123  0.032688   0.114025  0.574245  0.766552  1.000000   \n",
       "BILL_AMT1   0.285430 -0.023472   0.023581  0.187068  0.234887  0.208473   \n",
       "BILL_AMT2   0.278314 -0.021602   0.018749  0.189859  0.235257  0.237295   \n",
       "BILL_AMT3   0.283236 -0.024909   0.013002  0.179785  0.224146  0.227494   \n",
       "PayBill1   -0.007089 -0.020890   0.026152  0.487506  0.387908  0.298772   \n",
       "PayBill2   -0.021389 -0.022691   0.019478  0.418755  0.488559  0.355999   \n",
       "PayBill3   -0.041870 -0.013168   0.016966  0.351143  0.388882  0.464904   \n",
       "PayBill4   -0.059848 -0.013080   0.020159  0.317305  0.341192  0.372191   \n",
       "PayBill5   -0.052143 -0.011111   0.007296  0.293100  0.315568  0.322261   \n",
       "PayBill6   -0.050414 -0.013844   0.004179  0.256419  0.275918  0.286981   \n",
       "Default    -0.153520 -0.024339   0.028006  0.324794  0.263551  0.235253   \n",
       "\n",
       "           BILL_AMT1  BILL_AMT2  BILL_AMT3  PayBill1  PayBill2  PayBill3  \\\n",
       "LIMIT_BAL   0.285430   0.278314   0.283236 -0.007089 -0.021389 -0.041870   \n",
       "MARRIAGE   -0.023472  -0.021602  -0.024909 -0.020890 -0.022691 -0.013168   \n",
       "EDUCATION   0.023581   0.018749   0.013002  0.026152  0.019478  0.016966   \n",
       "PAY_0       0.187068   0.189859   0.179785  0.487506  0.418755  0.351143   \n",
       "PAY_2       0.234887   0.235257   0.224146  0.387908  0.488559  0.388882   \n",
       "PAY_3       0.208473   0.237295   0.227494  0.298772  0.355999  0.464904   \n",
       "BILL_AMT1   1.000000   0.951484   0.892279  0.282210  0.265612  0.219987   \n",
       "BILL_AMT2   0.951484   1.000000   0.928326  0.295818  0.256172  0.249528   \n",
       "BILL_AMT3   0.892279   0.928326   1.000000  0.286169  0.261712  0.192420   \n",
       "PayBill1    0.282210   0.295818   0.286169  1.000000  0.814468  0.647730   \n",
       "PayBill2    0.265612   0.256172   0.261712  0.814468  1.000000  0.743852   \n",
       "PayBill3    0.219987   0.249528   0.192420  0.647730  0.743852  1.000000   \n",
       "PayBill4    0.170994   0.191518   0.215957  0.523472  0.602218  0.701466   \n",
       "PayBill5    0.165299   0.183779   0.199074  0.468316  0.539470  0.592975   \n",
       "PayBill6    0.166083   0.184468   0.192240  0.378763  0.434284  0.505534   \n",
       "Default    -0.019644  -0.014193  -0.014076  0.222866  0.195397  0.177741   \n",
       "\n",
       "           PayBill4  PayBill5  PayBill6   Default  \n",
       "LIMIT_BAL -0.059848 -0.052143 -0.050414 -0.153520  \n",
       "MARRIAGE  -0.013080 -0.011111 -0.013844 -0.024339  \n",
       "EDUCATION  0.020159  0.007296  0.004179  0.028006  \n",
       "PAY_0      0.317305  0.293100  0.256419  0.324794  \n",
       "PAY_2      0.341192  0.315568  0.275918  0.263551  \n",
       "PAY_3      0.372191  0.322261  0.286981  0.235253  \n",
       "BILL_AMT1  0.170994  0.165299  0.166083 -0.019644  \n",
       "BILL_AMT2  0.191518  0.183779  0.184468 -0.014193  \n",
       "BILL_AMT3  0.215957  0.199074  0.192240 -0.014076  \n",
       "PayBill1   0.523472  0.468316  0.378763  0.222866  \n",
       "PayBill2   0.602218  0.539470  0.434284  0.195397  \n",
       "PayBill3   0.701466  0.592975  0.505534  0.177741  \n",
       "PayBill4   1.000000  0.754522  0.591966  0.163125  \n",
       "PayBill5   0.754522  1.000000  0.719829  0.166294  \n",
       "PayBill6   0.591966  0.719829  1.000000  0.151058  \n",
       "Default    0.163125  0.166294  0.151058  1.000000  "
      ]
     },
     "execution_count": 10,
     "metadata": {},
     "output_type": "execute_result"
    }
   ],
   "source": [
    "df[['LIMIT_BAL','MARRIAGE','EDUCATION', 'PAY_0',\n",
    "       'PAY_2', 'PAY_3', 'BILL_AMT1', 'BILL_AMT2',\n",
    "       'BILL_AMT3','PayBill1','PayBill2','PayBill3','PayBill4','PayBill5','PayBill6','Default']].corr()"
   ]
  },
  {
   "cell_type": "code",
   "execution_count": 11,
   "metadata": {
    "collapsed": true
   },
   "outputs": [],
   "source": [
    "df.drop('ID',axis=1,inplace=True)"
   ]
  },
  {
   "cell_type": "code",
   "execution_count": 12,
   "metadata": {
    "collapsed": true
   },
   "outputs": [],
   "source": [
    "df.SEX=df.SEX.map({1:'male',2:'female'})\n",
    "df.EDUCATION=df.EDUCATION.map({0:'Others0',1:'graduate school',2:'University',3:'High School',4:'Others4',5:'Others5',6:'Others6'})\n",
    "df.MARRIAGE=df.MARRIAGE.map({0:'Others',1:'married',2:'single',3:'divorce'})"
   ]
  },
  {
   "cell_type": "code",
   "execution_count": 13,
   "metadata": {
    "collapsed": true
   },
   "outputs": [],
   "source": [
    "from sklearn.feature_extraction import DictVectorizer"
   ]
  },
  {
   "cell_type": "code",
   "execution_count": 14,
   "metadata": {},
   "outputs": [
    {
     "data": {
      "text/plain": [
       "Index(['LIMIT_BAL', 'AGE', 'PAY_0', 'PAY_2', 'PAY_3', 'PAY_4', 'PAY_5',\n",
       "       'PAY_6', 'BILL_AMT1', 'BILL_AMT2', 'BILL_AMT3', 'BILL_AMT4',\n",
       "       'BILL_AMT5', 'BILL_AMT6', 'PAY_AMT1', 'PAY_AMT2', 'PAY_AMT3',\n",
       "       'PAY_AMT4', 'PAY_AMT5', 'PAY_AMT6', 'Default', 'PayBill1', 'PayBill2',\n",
       "       'PayBill3', 'PayBill4', 'PayBill5', 'PayBill6', 'PayPay1', 'PayPay2',\n",
       "       'PayPay3', 'PayPay4', 'PayPay5', 'PayPay6', 'SEX=female', 'SEX=male',\n",
       "       'EDUCATION=High School', 'EDUCATION=Others0', 'EDUCATION=Others4',\n",
       "       'EDUCATION=Others5', 'EDUCATION=Others6', 'EDUCATION=University',\n",
       "       'EDUCATION=graduate school', 'MARRIAGE=Others', 'MARRIAGE=divorce',\n",
       "       'MARRIAGE=married', 'MARRIAGE=single'],\n",
       "      dtype='object')"
      ]
     },
     "execution_count": 14,
     "metadata": {},
     "output_type": "execute_result"
    }
   ],
   "source": [
    "def encode_onehot(df, cols):\n",
    "    vec = DictVectorizer()\n",
    "    vec_data = pd.DataFrame(vec.fit_transform(df[cols].to_dict('records')).toarray())\n",
    "    vec_data.columns = vec.get_feature_names()\n",
    "    vec_data.index = df.index\n",
    "    \n",
    "    df = df.drop(cols, axis=1)\n",
    "    df = df.join(vec_data)\n",
    "    return df\n",
    "X = encode_onehot(df, cols=['SEX'])\n",
    "X1 =encode_onehot(X, cols=['EDUCATION'])\n",
    "X2 =encode_onehot(X1, cols=['MARRIAGE'])\n",
    "X2.columns"
   ]
  },
  {
   "cell_type": "code",
   "execution_count": 15,
   "metadata": {
    "collapsed": true
   },
   "outputs": [],
   "source": [
    "y=df.Default"
   ]
  },
  {
   "cell_type": "code",
   "execution_count": 16,
   "metadata": {
    "collapsed": true
   },
   "outputs": [],
   "source": [
    "X=X2.drop(['Default'],axis=1)"
   ]
  },
  {
   "cell_type": "code",
   "execution_count": 17,
   "metadata": {},
   "outputs": [
    {
     "data": {
      "text/plain": [
       "(30000, 45)"
      ]
     },
     "execution_count": 17,
     "metadata": {},
     "output_type": "execute_result"
    }
   ],
   "source": [
    "X.shape"
   ]
  },
  {
   "cell_type": "code",
   "execution_count": 18,
   "metadata": {},
   "outputs": [
    {
     "name": "stderr",
     "output_type": "stream",
     "text": [
      "/Users/sibaoxin/anaconda3/lib/python3.6/site-packages/ipykernel_launcher.py:4: SettingWithCopyWarning: \n",
      "A value is trying to be set on a copy of a slice from a DataFrame\n",
      "\n",
      "See the caveats in the documentation: http://pandas.pydata.org/pandas-docs/stable/indexing.html#indexing-view-versus-copy\n",
      "  after removing the cwd from sys.path.\n"
     ]
    }
   ],
   "source": [
    "X[['SEX=female','SEX=male', 'EDUCATION=Others0',\n",
    "       'EDUCATION=High School',  'EDUCATION=University',\n",
    "       'EDUCATION=graduate school', 'EDUCATION=Others4', 'EDUCATION=Others5','EDUCATION=Others6','MARRIAGE=married', 'MARRIAGE=Others',\n",
    "       'MARRIAGE=single', 'MARRIAGE=divorce']].replace(0,-1,inplace=True)\n"
   ]
  },
  {
   "cell_type": "code",
   "execution_count": 19,
   "metadata": {},
   "outputs": [
    {
     "name": "stderr",
     "output_type": "stream",
     "text": [
      "/Users/sibaoxin/anaconda3/lib/python3.6/site-packages/sklearn/preprocessing/data.py:625: DataConversionWarning: Data with input dtype int64, float64 were all converted to float64 by StandardScaler.\n",
      "  return self.partial_fit(X, y)\n",
      "/Users/sibaoxin/anaconda3/lib/python3.6/site-packages/ipykernel_launcher.py:3: DataConversionWarning: Data with input dtype int64, float64 were all converted to float64 by StandardScaler.\n",
      "  This is separate from the ipykernel package so we can avoid doing imports until\n"
     ]
    }
   ],
   "source": [
    "scaler = StandardScaler()\n",
    "scaler.fit(X)\n",
    "X1 = scaler.transform(X)"
   ]
  },
  {
   "cell_type": "code",
   "execution_count": 20,
   "metadata": {
    "collapsed": true
   },
   "outputs": [],
   "source": [
    "X_train, X_test, y_train, y_test = train_test_split(X1, y, test_size=0.3, random_state=3)"
   ]
  },
  {
   "cell_type": "code",
   "execution_count": 24,
   "metadata": {
    "collapsed": true
   },
   "outputs": [],
   "source": [
    "from sklearn.feature_selection import SelectKBest,f_regression"
   ]
  },
  {
   "cell_type": "code",
   "execution_count": 29,
   "metadata": {
    "collapsed": true
   },
   "outputs": [],
   "source": [
    "from sklearn import metrics"
   ]
  },
  {
   "cell_type": "code",
   "execution_count": 31,
   "metadata": {
    "collapsed": true
   },
   "outputs": [],
   "source": [
    "from sklearn.svm import SVC"
   ]
  },
  {
   "cell_type": "code",
   "execution_count": 33,
   "metadata": {},
   "outputs": [
    {
     "name": "stderr",
     "output_type": "stream",
     "text": [
      "/Users/sibaoxin/anaconda3/lib/python3.6/site-packages/sklearn/svm/base.py:196: FutureWarning: The default value of gamma will change from 'auto' to 'scale' in version 0.22 to account better for unscaled features. Set gamma explicitly to 'auto' or 'scale' to avoid this warning.\n",
      "  \"avoid this warning.\", FutureWarning)\n",
      "/Users/sibaoxin/anaconda3/lib/python3.6/site-packages/sklearn/model_selection/_split.py:2053: FutureWarning: You should specify a value for 'cv' instead of relying on the default value. The default value will change from 3 to 5 in version 0.22.\n",
      "  warnings.warn(CV_WARNING, FutureWarning)\n",
      "/Users/sibaoxin/anaconda3/lib/python3.6/site-packages/sklearn/svm/base.py:196: FutureWarning: The default value of gamma will change from 'auto' to 'scale' in version 0.22 to account better for unscaled features. Set gamma explicitly to 'auto' or 'scale' to avoid this warning.\n",
      "  \"avoid this warning.\", FutureWarning)\n",
      "/Users/sibaoxin/anaconda3/lib/python3.6/site-packages/sklearn/svm/base.py:196: FutureWarning: The default value of gamma will change from 'auto' to 'scale' in version 0.22 to account better for unscaled features. Set gamma explicitly to 'auto' or 'scale' to avoid this warning.\n",
      "  \"avoid this warning.\", FutureWarning)\n",
      "/Users/sibaoxin/anaconda3/lib/python3.6/site-packages/sklearn/svm/base.py:196: FutureWarning: The default value of gamma will change from 'auto' to 'scale' in version 0.22 to account better for unscaled features. Set gamma explicitly to 'auto' or 'scale' to avoid this warning.\n",
      "  \"avoid this warning.\", FutureWarning)\n"
     ]
    },
    {
     "name": "stdout",
     "output_type": "stream",
     "text": [
      "[0.81316955 0.81228571 0.81768824]\n"
     ]
    },
    {
     "data": {
      "text/plain": [
       "0.8231904761904761"
      ]
     },
     "execution_count": 33,
     "metadata": {},
     "output_type": "execute_result"
    }
   ],
   "source": [
    "X_train, X_test, y_train, y_test = train_test_split(X2, y, test_size=0.3, random_state=3)\n",
    "modelSVC=SVC()\n",
    "modelSVC.fit(X_train,y_train)\n",
    "print(cross_val_score(modelSVC, X_train, y_train))\n",
    "modelSVC.score(X_train,y_train)"
   ]
  },
  {
   "cell_type": "code",
   "execution_count": 35,
   "metadata": {
    "collapsed": true
   },
   "outputs": [],
   "source": [
    "from sklearn.ensemble import RandomForestClassifier"
   ]
  },
  {
   "cell_type": "code",
   "execution_count": 36,
   "metadata": {},
   "outputs": [
    {
     "name": "stderr",
     "output_type": "stream",
     "text": [
      "/Users/sibaoxin/anaconda3/lib/python3.6/site-packages/sklearn/ensemble/forest.py:246: FutureWarning: The default value of n_estimators will change from 10 in version 0.20 to 100 in 0.22.\n",
      "  \"10 in version 0.20 to 100 in 0.22.\", FutureWarning)\n",
      "/Users/sibaoxin/anaconda3/lib/python3.6/site-packages/sklearn/model_selection/_split.py:2053: FutureWarning: You should specify a value for 'cv' instead of relying on the default value. The default value will change from 3 to 5 in version 0.22.\n",
      "  warnings.warn(CV_WARNING, FutureWarning)\n"
     ]
    },
    {
     "name": "stdout",
     "output_type": "stream",
     "text": [
      "[0.78403085 0.78785714 0.78682669]\n"
     ]
    },
    {
     "data": {
      "text/plain": [
       "0.9567619047619048"
      ]
     },
     "execution_count": 36,
     "metadata": {},
     "output_type": "execute_result"
    }
   ],
   "source": [
    "X_train, X_test, y_train, y_test = train_test_split(X2, y, test_size=0.3, random_state=3)\n",
    "modelRF=RandomForestClassifier()\n",
    "modelRF.fit(X_train,y_train)\n",
    "print(cross_val_score(modelRF, X_train, y_train))\n",
    "modelRF.score(X_train,y_train)"
   ]
  },
  {
   "cell_type": "code",
   "execution_count": 39,
   "metadata": {
    "collapsed": true
   },
   "outputs": [],
   "source": [
    "from sklearn.ensemble import AdaBoostClassifier"
   ]
  },
  {
   "cell_type": "code",
   "execution_count": 40,
   "metadata": {},
   "outputs": [
    {
     "name": "stderr",
     "output_type": "stream",
     "text": [
      "/Users/sibaoxin/anaconda3/lib/python3.6/site-packages/sklearn/model_selection/_split.py:2053: FutureWarning: You should specify a value for 'cv' instead of relying on the default value. The default value will change from 3 to 5 in version 0.22.\n",
      "  warnings.warn(CV_WARNING, FutureWarning)\n"
     ]
    },
    {
     "name": "stdout",
     "output_type": "stream",
     "text": [
      "[0.81274104 0.81442857 0.81654522]\n"
     ]
    },
    {
     "data": {
      "text/plain": [
       "0.8191428571428572"
      ]
     },
     "execution_count": 40,
     "metadata": {},
     "output_type": "execute_result"
    }
   ],
   "source": [
    "modelAB=AdaBoostClassifier()\n",
    "modelAB.fit(X_train,y_train)\n",
    "print(cross_val_score(modelAB, X_train, y_train))\n",
    "modelAB.score(X_train,y_train)"
   ]
  },
  {
   "cell_type": "code",
   "execution_count": 41,
   "metadata": {},
   "outputs": [
    {
     "name": "stderr",
     "output_type": "stream",
     "text": [
      "/Users/sibaoxin/anaconda3/lib/python3.6/site-packages/sklearn/svm/base.py:196: FutureWarning: The default value of gamma will change from 'auto' to 'scale' in version 0.22 to account better for unscaled features. Set gamma explicitly to 'auto' or 'scale' to avoid this warning.\n",
      "  \"avoid this warning.\", FutureWarning)\n",
      "/Users/sibaoxin/anaconda3/lib/python3.6/site-packages/sklearn/model_selection/_split.py:2053: FutureWarning: You should specify a value for 'cv' instead of relying on the default value. The default value will change from 3 to 5 in version 0.22.\n",
      "  warnings.warn(CV_WARNING, FutureWarning)\n",
      "/Users/sibaoxin/anaconda3/lib/python3.6/site-packages/sklearn/svm/base.py:196: FutureWarning: The default value of gamma will change from 'auto' to 'scale' in version 0.22 to account better for unscaled features. Set gamma explicitly to 'auto' or 'scale' to avoid this warning.\n",
      "  \"avoid this warning.\", FutureWarning)\n",
      "/Users/sibaoxin/anaconda3/lib/python3.6/site-packages/sklearn/svm/base.py:196: FutureWarning: The default value of gamma will change from 'auto' to 'scale' in version 0.22 to account better for unscaled features. Set gamma explicitly to 'auto' or 'scale' to avoid this warning.\n",
      "  \"avoid this warning.\", FutureWarning)\n",
      "/Users/sibaoxin/anaconda3/lib/python3.6/site-packages/sklearn/svm/base.py:196: FutureWarning: The default value of gamma will change from 'auto' to 'scale' in version 0.22 to account better for unscaled features. Set gamma explicitly to 'auto' or 'scale' to avoid this warning.\n",
      "  \"avoid this warning.\", FutureWarning)\n"
     ]
    },
    {
     "name": "stdout",
     "output_type": "stream",
     "text": [
      "[0.81316955 0.81228571 0.81768824]\n"
     ]
    },
    {
     "data": {
      "text/plain": [
       "0.8231904761904761"
      ]
     },
     "execution_count": 41,
     "metadata": {},
     "output_type": "execute_result"
    }
   ],
   "source": [
    "modelSVC=SVC()\n",
    "modelSVC.fit(X_train,y_train)\n",
    "print(cross_val_score(modelSVC, X_train, y_train))\n",
    "modelSVC.score(X_train,y_train)"
   ]
  },
  {
   "cell_type": "code",
   "execution_count": 42,
   "metadata": {},
   "outputs": [
    {
     "name": "stderr",
     "output_type": "stream",
     "text": [
      "/Users/sibaoxin/anaconda3/lib/python3.6/site-packages/sklearn/ensemble/forest.py:246: FutureWarning: The default value of n_estimators will change from 10 in version 0.20 to 100 in 0.22.\n",
      "  \"10 in version 0.20 to 100 in 0.22.\", FutureWarning)\n",
      "/Users/sibaoxin/anaconda3/lib/python3.6/site-packages/sklearn/model_selection/_split.py:2053: FutureWarning: You should specify a value for 'cv' instead of relying on the default value. The default value will change from 3 to 5 in version 0.22.\n",
      "  warnings.warn(CV_WARNING, FutureWarning)\n"
     ]
    },
    {
     "name": "stdout",
     "output_type": "stream",
     "text": [
      "[0.78388802 0.78114286 0.78782683]\n"
     ]
    },
    {
     "data": {
      "text/plain": [
       "0.9543809523809523"
      ]
     },
     "execution_count": 42,
     "metadata": {},
     "output_type": "execute_result"
    }
   ],
   "source": [
    "modelRF=RandomForestClassifier()\n",
    "modelRF.fit(X_train,y_train)\n",
    "print(cross_val_score(modelRF, X_train, y_train))\n",
    "modelRF.score(X_train,y_train)"
   ]
  },
  {
   "cell_type": "code",
   "execution_count": 48,
   "metadata": {
    "collapsed": true
   },
   "outputs": [],
   "source": [
    "averageAB = (0.81274104+0.81442857+0.81654522+0.8191428571428572)/4"
   ]
  },
  {
   "cell_type": "code",
   "execution_count": 49,
   "metadata": {},
   "outputs": [
    {
     "name": "stdout",
     "output_type": "stream",
     "text": [
      "0.8157144217857144\n"
     ]
    }
   ],
   "source": [
    "print(averageAB)"
   ]
  },
  {
   "cell_type": "code",
   "execution_count": 50,
   "metadata": {},
   "outputs": [
    {
     "name": "stdout",
     "output_type": "stream",
     "text": [
      "0.8165834940476191\n"
     ]
    }
   ],
   "source": [
    "averageSVC = (0.81316955+0.81228571+0.817688240+0.8231904761904761)/4\n",
    "print(averageSVC)  "
   ]
  },
  {
   "cell_type": "code",
   "execution_count": 51,
   "metadata": {
    "collapsed": true
   },
   "outputs": [],
   "source": [
    "predictions = modelSVC.predict(X_test)"
   ]
  },
  {
   "cell_type": "code",
   "execution_count": 52,
   "metadata": {},
   "outputs": [
    {
     "data": {
      "text/plain": [
       "[0.8278888888888889,\n",
       " 0.8283333333333334,\n",
       " 0.8272222222222222,\n",
       " 0.8276666666666667,\n",
       " 0.8271111111111111,\n",
       " 0.827,\n",
       " 0.827,\n",
       " 0.8265555555555556,\n",
       " 0.8271111111111111]"
      ]
     },
     "execution_count": 52,
     "metadata": {},
     "output_type": "execute_result"
    }
   ],
   "source": [
    "Accuracy_Score.append(metrics.accuracy_score(y_test,predictions))\n",
    "Accuracy_Score"
   ]
  },
  {
   "cell_type": "code",
   "execution_count": 57,
   "metadata": {},
   "outputs": [
    {
     "name": "stderr",
     "output_type": "stream",
     "text": [
      "/Users/sibaoxin/anaconda3/lib/python3.6/site-packages/sklearn/svm/base.py:196: FutureWarning: The default value of gamma will change from 'auto' to 'scale' in version 0.22 to account better for unscaled features. Set gamma explicitly to 'auto' or 'scale' to avoid this warning.\n",
      "  \"avoid this warning.\", FutureWarning)\n",
      "/Users/sibaoxin/anaconda3/lib/python3.6/site-packages/sklearn/svm/base.py:196: FutureWarning: The default value of gamma will change from 'auto' to 'scale' in version 0.22 to account better for unscaled features. Set gamma explicitly to 'auto' or 'scale' to avoid this warning.\n",
      "  \"avoid this warning.\", FutureWarning)\n",
      "/Users/sibaoxin/anaconda3/lib/python3.6/site-packages/sklearn/svm/base.py:196: FutureWarning: The default value of gamma will change from 'auto' to 'scale' in version 0.22 to account better for unscaled features. Set gamma explicitly to 'auto' or 'scale' to avoid this warning.\n",
      "  \"avoid this warning.\", FutureWarning)\n",
      "/Users/sibaoxin/anaconda3/lib/python3.6/site-packages/sklearn/svm/base.py:196: FutureWarning: The default value of gamma will change from 'auto' to 'scale' in version 0.22 to account better for unscaled features. Set gamma explicitly to 'auto' or 'scale' to avoid this warning.\n",
      "  \"avoid this warning.\", FutureWarning)\n",
      "/Users/sibaoxin/anaconda3/lib/python3.6/site-packages/sklearn/svm/base.py:196: FutureWarning: The default value of gamma will change from 'auto' to 'scale' in version 0.22 to account better for unscaled features. Set gamma explicitly to 'auto' or 'scale' to avoid this warning.\n",
      "  \"avoid this warning.\", FutureWarning)\n",
      "/Users/sibaoxin/anaconda3/lib/python3.6/site-packages/sklearn/svm/base.py:196: FutureWarning: The default value of gamma will change from 'auto' to 'scale' in version 0.22 to account better for unscaled features. Set gamma explicitly to 'auto' or 'scale' to avoid this warning.\n",
      "  \"avoid this warning.\", FutureWarning)\n",
      "/Users/sibaoxin/anaconda3/lib/python3.6/site-packages/sklearn/svm/base.py:196: FutureWarning: The default value of gamma will change from 'auto' to 'scale' in version 0.22 to account better for unscaled features. Set gamma explicitly to 'auto' or 'scale' to avoid this warning.\n",
      "  \"avoid this warning.\", FutureWarning)\n",
      "/Users/sibaoxin/anaconda3/lib/python3.6/site-packages/sklearn/svm/base.py:196: FutureWarning: The default value of gamma will change from 'auto' to 'scale' in version 0.22 to account better for unscaled features. Set gamma explicitly to 'auto' or 'scale' to avoid this warning.\n",
      "  \"avoid this warning.\", FutureWarning)\n"
     ]
    },
    {
     "data": {
      "text/plain": [
       "[0.8278888888888889,\n",
       " 0.8283333333333334,\n",
       " 0.8272222222222222,\n",
       " 0.8276666666666667,\n",
       " 0.8271111111111111,\n",
       " 0.827,\n",
       " 0.827,\n",
       " 0.8265555555555556]"
      ]
     },
     "execution_count": 57,
     "metadata": {},
     "output_type": "execute_result"
    }
   ],
   "source": [
    "Accuracy_Score=[]\n",
    "for i in range(10,18):\n",
    "    mod=SelectKBest(score_func=f_regression,k=i)\n",
    "    X2=mod.fit_transform(X1,y)\n",
    "    X_train, X_test, y_train, y_test = train_test_split(X2, y, test_size=0.3, random_state=3)\n",
    "    svc=SVC(C=2)\n",
    "    svc.fit(X_train,y_train)\n",
    "    y_pred=svc.predict(X_test)\n",
    "    Accuracy_Score.append(metrics.accuracy_score(y_test,y_pred))\n",
    "Accuracy_Score"
   ]
  },
  {
   "cell_type": "code",
   "execution_count": 59,
   "metadata": {},
   "outputs": [
    {
     "name": "stderr",
     "output_type": "stream",
     "text": [
      "/Users/sibaoxin/anaconda3/lib/python3.6/site-packages/sklearn/svm/base.py:196: FutureWarning: The default value of gamma will change from 'auto' to 'scale' in version 0.22 to account better for unscaled features. Set gamma explicitly to 'auto' or 'scale' to avoid this warning.\n",
      "  \"avoid this warning.\", FutureWarning)\n"
     ]
    },
    {
     "name": "stdout",
     "output_type": "stream",
     "text": [
      "0.8283333333333334\n"
     ]
    }
   ],
   "source": [
    "mod=SelectKBest(score_func=f_regression,k=11)\n",
    "X2=mod.fit_transform(X1,y)\n",
    "X_train, X_test, y_train, y_test = train_test_split(X2, y, test_size=0.3, random_state=3)\n",
    "svc=SVC(C=2)\n",
    "svc.fit(X_train,y_train)\n",
    "y_pred=svc.predict(X_test)\n",
    "print(metrics.accuracy_score(y_test,y_pred))"
   ]
  },
  {
   "cell_type": "code",
   "execution_count": 60,
   "metadata": {},
   "outputs": [
    {
     "data": {
      "text/plain": [
       "[0.8277777777777777,\n",
       " 0.8268888888888889,\n",
       " 0.8291111111111111,\n",
       " 0.8287777777777777,\n",
       " 0.8294444444444444,\n",
       " 0.8282222222222222,\n",
       " 0.8292222222222222,\n",
       " 0.8297777777777777,\n",
       " 0.8276666666666667,\n",
       " 0.8288888888888889,\n",
       " 0.8273333333333334,\n",
       " 0.8273333333333334,\n",
       " 0.8288888888888889,\n",
       " 0.8272222222222222]"
      ]
     },
     "execution_count": 60,
     "metadata": {},
     "output_type": "execute_result"
    }
   ],
   "source": [
    "A=[]\n",
    "for i in range(12,26):\n",
    "    \n",
    "    mod=SelectKBest(score_func=f_regression,k=i)\n",
    "    X2=mod.fit_transform(X1,y)\n",
    "    X_train, X_test, y_train, y_test = train_test_split(X2, y, test_size=0.3, random_state=3)\n",
    "    clf = AdaBoostClassifier(n_estimators=90)\n",
    "    model = clf.fit(X_train,y_train)\n",
    "    y_predict = model.predict(X_test)\n",
    "    A.append(metrics.accuracy_score(y_test,y_predict))\n",
    "A"
   ]
  },
  {
   "cell_type": "code",
   "execution_count": 64,
   "metadata": {},
   "outputs": [
    {
     "data": {
      "text/plain": [
       "[0.8284444444444444,\n",
       " 0.8284444444444444,\n",
       " 0.8283333333333334,\n",
       " 0.8283333333333334,\n",
       " 0.8284444444444444,\n",
       " 0.8284444444444444,\n",
       " 0.8283333333333334,\n",
       " 0.8283333333333334,\n",
       " 0.8283333333333334,\n",
       " 0.8283333333333334,\n",
       " 0.8284444444444444,\n",
       " 0.8284444444444444,\n",
       " 0.8283333333333334,\n",
       " 0.8284444444444444,\n",
       " 0.8285555555555556,\n",
       " 0.8285555555555556,\n",
       " 0.8284444444444444,\n",
       " 0.8284444444444444,\n",
       " 0.8286666666666667,\n",
       " 0.8286666666666667]"
      ]
     },
     "execution_count": 64,
     "metadata": {},
     "output_type": "execute_result"
    }
   ],
   "source": [
    "mod=SelectKBest(score_func=f_regression,k=19)\n",
    "X2=mod.fit_transform(X1,y)\n",
    "X_train, X_test, y_train, y_test = train_test_split(X2, y, test_size=0.3, random_state=3)\n",
    "A=[]\n",
    "for i in range(75,95):\n",
    "    clf = AdaBoostClassifier(n_estimators=i,learning_rate=.1)\n",
    "    model = clf.fit(X_train,y_train)\n",
    "    y_predict = model.predict(X_test)\n",
    "    A.append(metrics.accuracy_score(y_test,y_predict))\n",
    "    \n",
    "A"
   ]
  },
  {
   "cell_type": "code",
   "execution_count": 65,
   "metadata": {},
   "outputs": [
    {
     "name": "stdout",
     "output_type": "stream",
     "text": [
      "0.8286666666666667\n"
     ]
    }
   ],
   "source": [
    "mod=SelectKBest(score_func=f_regression,k=19)\n",
    "X2=mod.fit_transform(X1,y)\n",
    "X_train, X_test, y_train, y_test = train_test_split(X2, y, test_size=0.3, random_state=3)\n",
    "clf = AdaBoostClassifier(n_estimators=94,learning_rate=.1)\n",
    "model = clf.fit(X_train,y_train)\n",
    "y_predict = model.predict(X_test)\n",
    "accuracy_score= metrics.accuracy_score(y_test,y_predict)\n",
    "print(accuracy_score)"
   ]
  },
  {
   "cell_type": "code",
   "execution_count": null,
   "metadata": {
    "collapsed": true
   },
   "outputs": [],
   "source": [
    "# Best model: AdaBoost, with k=19, estimator=94, learning rate =0.1"
   ]
  }
 ],
 "metadata": {
  "kernelspec": {
   "display_name": "Python 3",
   "language": "python",
   "name": "python3"
  },
  "language_info": {
   "codemirror_mode": {
    "name": "ipython",
    "version": 3
   },
   "file_extension": ".py",
   "mimetype": "text/x-python",
   "name": "python",
   "nbconvert_exporter": "python",
   "pygments_lexer": "ipython3",
   "version": "3.6.2"
  }
 },
 "nbformat": 4,
 "nbformat_minor": 2
}
